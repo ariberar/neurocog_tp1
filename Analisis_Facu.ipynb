{
  "cells": [
    {
      "cell_type": "code",
      "execution_count": 2,
      "metadata": {
        "id": "cmbgQ-43HbkN"
      },
      "outputs": [],
      "source": [
        "import numpy as np\n",
        "import matplotlib.pyplot as plt\n",
        "import glob\n",
        "import pandas as pd\n",
        "import unicodedata\n",
        "import seaborn as sns\n",
        "from scipy import stats"
      ]
    },
    {
      "cell_type": "code",
      "source": [
        "#Si estas desde drive descomenta\n",
        "from google.colab import drive\n",
        "\n",
        "drive.mount('/content/drive')"
      ],
      "metadata": {
        "colab": {
          "base_uri": "https://localhost:8080/"
        },
        "id": "mEenbCCOHdme",
        "outputId": "252440fa-a547-4784-9e0e-53171110352c"
      },
      "execution_count": 3,
      "outputs": [
        {
          "output_type": "stream",
          "name": "stdout",
          "text": [
            "Mounted at /content/drive\n"
          ]
        }
      ]
    },
    {
      "cell_type": "code",
      "source": [
        "path = '/content/drive/MyDrive/DOCTORADO/Materias/Neuro Cognitiva/Respuestas/'\n",
        "archivos = glob.glob(path + '*.csv')"
      ],
      "metadata": {
        "id": "PUuAzen_K1wA"
      },
      "execution_count": 4,
      "outputs": []
    },
    {
      "cell_type": "code",
      "source": [
        "# Organizamos la data\n",
        "def normalize_string(s):\n",
        "    # Convert to lowercase\n",
        "    s = s.lower()\n",
        "    # Normalize the string to remove accents\n",
        "    s = unicodedata.normalize('NFD', s)\n",
        "    # Remove diacritics (accents)\n",
        "    s = ''.join(c for c in s if unicodedata.category(c) != 'Mn')\n",
        "    return s\n",
        "\n",
        "df_metadata = pd.read_csv(path+'Metadata.csv', sep=';', encoding='latin1')\n",
        "df_data = df_metadata.rename(columns={'Numero': 'Sujeto'})\n",
        "df_data['Tiempo Medio Correctas Numeros'] = None\n",
        "df_data['Tiempo Medio Correctas Imagenes'] = None\n",
        "\n",
        "#value_mapping = {\n",
        "#    'Imágenes': normalize_string('Imágenes'),\n",
        "#    'Numeritos': normalize_string('Numeritos'),\n",
        "#    'N/A': normalize_string('N/A')}\n",
        "value_mapping = {\n",
        "    'ImÃ¡genes': normalize_string('Imágenes'),\n",
        "    'Numeritos': normalize_string('Numeritos'),\n",
        "    'N/A': normalize_string('N/A')\n",
        "}\n",
        "# Rename the values in the \"estim\" column\n",
        "df_data['Primer Estimulo'] = df_data['Primer Estimulo'].replace(value_mapping)"
      ],
      "metadata": {
        "id": "6i2h-eaeO0fD"
      },
      "execution_count": 5,
      "outputs": []
    },
    {
      "cell_type": "code",
      "source": [
        "df_metadata"
      ],
      "metadata": {
        "colab": {
          "base_uri": "https://localhost:8080/",
          "height": 551
        },
        "id": "Qb1FWmKzHmGO",
        "outputId": "94e75c3c-8baa-4773-a8af-14ff563d14f1"
      },
      "execution_count": 6,
      "outputs": [
        {
          "output_type": "execute_result",
          "data": {
            "text/plain": [
              "    Numero Categoria Primer Estimulo  Unnamed: 3  Unnamed: 4\n",
              "0       14   Sujetos       ImÃ¡genes         NaN         NaN\n",
              "1       16   Sujetos       ImÃ¡genes         NaN         NaN\n",
              "2       18   Sujetos       ImÃ¡genes         NaN         NaN\n",
              "3       20   Sujetos       ImÃ¡genes         NaN         NaN\n",
              "4       22   Sujetos       Numeritos         NaN         NaN\n",
              "5       24   Sujetos       Numeritos         NaN         NaN\n",
              "6       26   Sujetos       Numeritos         NaN         NaN\n",
              "7        7   Sujetos       Numeritos         NaN         NaN\n",
              "8       38   Sujetos       ImÃ¡genes         NaN         NaN\n",
              "9      102   Sujetos       Numeritos         NaN         NaN\n",
              "10      14   Sujetos       Numeritos         NaN         NaN\n",
              "11       9  Nosotres             NaN         NaN         NaN\n",
              "12      37  Nosotres             NaN         NaN         NaN\n",
              "13      96  Nosotres             NaN         NaN         NaN\n",
              "14      28  Nosotres             NaN         NaN         NaN\n",
              "15     104   Sujetos       Numeritos         NaN         NaN"
            ],
            "text/html": [
              "\n",
              "  <div id=\"df-e3f3b23e-8746-4ed3-a15d-d36caead30d7\" class=\"colab-df-container\">\n",
              "    <div>\n",
              "<style scoped>\n",
              "    .dataframe tbody tr th:only-of-type {\n",
              "        vertical-align: middle;\n",
              "    }\n",
              "\n",
              "    .dataframe tbody tr th {\n",
              "        vertical-align: top;\n",
              "    }\n",
              "\n",
              "    .dataframe thead th {\n",
              "        text-align: right;\n",
              "    }\n",
              "</style>\n",
              "<table border=\"1\" class=\"dataframe\">\n",
              "  <thead>\n",
              "    <tr style=\"text-align: right;\">\n",
              "      <th></th>\n",
              "      <th>Numero</th>\n",
              "      <th>Categoria</th>\n",
              "      <th>Primer Estimulo</th>\n",
              "      <th>Unnamed: 3</th>\n",
              "      <th>Unnamed: 4</th>\n",
              "    </tr>\n",
              "  </thead>\n",
              "  <tbody>\n",
              "    <tr>\n",
              "      <th>0</th>\n",
              "      <td>14</td>\n",
              "      <td>Sujetos</td>\n",
              "      <td>ImÃ¡genes</td>\n",
              "      <td>NaN</td>\n",
              "      <td>NaN</td>\n",
              "    </tr>\n",
              "    <tr>\n",
              "      <th>1</th>\n",
              "      <td>16</td>\n",
              "      <td>Sujetos</td>\n",
              "      <td>ImÃ¡genes</td>\n",
              "      <td>NaN</td>\n",
              "      <td>NaN</td>\n",
              "    </tr>\n",
              "    <tr>\n",
              "      <th>2</th>\n",
              "      <td>18</td>\n",
              "      <td>Sujetos</td>\n",
              "      <td>ImÃ¡genes</td>\n",
              "      <td>NaN</td>\n",
              "      <td>NaN</td>\n",
              "    </tr>\n",
              "    <tr>\n",
              "      <th>3</th>\n",
              "      <td>20</td>\n",
              "      <td>Sujetos</td>\n",
              "      <td>ImÃ¡genes</td>\n",
              "      <td>NaN</td>\n",
              "      <td>NaN</td>\n",
              "    </tr>\n",
              "    <tr>\n",
              "      <th>4</th>\n",
              "      <td>22</td>\n",
              "      <td>Sujetos</td>\n",
              "      <td>Numeritos</td>\n",
              "      <td>NaN</td>\n",
              "      <td>NaN</td>\n",
              "    </tr>\n",
              "    <tr>\n",
              "      <th>5</th>\n",
              "      <td>24</td>\n",
              "      <td>Sujetos</td>\n",
              "      <td>Numeritos</td>\n",
              "      <td>NaN</td>\n",
              "      <td>NaN</td>\n",
              "    </tr>\n",
              "    <tr>\n",
              "      <th>6</th>\n",
              "      <td>26</td>\n",
              "      <td>Sujetos</td>\n",
              "      <td>Numeritos</td>\n",
              "      <td>NaN</td>\n",
              "      <td>NaN</td>\n",
              "    </tr>\n",
              "    <tr>\n",
              "      <th>7</th>\n",
              "      <td>7</td>\n",
              "      <td>Sujetos</td>\n",
              "      <td>Numeritos</td>\n",
              "      <td>NaN</td>\n",
              "      <td>NaN</td>\n",
              "    </tr>\n",
              "    <tr>\n",
              "      <th>8</th>\n",
              "      <td>38</td>\n",
              "      <td>Sujetos</td>\n",
              "      <td>ImÃ¡genes</td>\n",
              "      <td>NaN</td>\n",
              "      <td>NaN</td>\n",
              "    </tr>\n",
              "    <tr>\n",
              "      <th>9</th>\n",
              "      <td>102</td>\n",
              "      <td>Sujetos</td>\n",
              "      <td>Numeritos</td>\n",
              "      <td>NaN</td>\n",
              "      <td>NaN</td>\n",
              "    </tr>\n",
              "    <tr>\n",
              "      <th>10</th>\n",
              "      <td>14</td>\n",
              "      <td>Sujetos</td>\n",
              "      <td>Numeritos</td>\n",
              "      <td>NaN</td>\n",
              "      <td>NaN</td>\n",
              "    </tr>\n",
              "    <tr>\n",
              "      <th>11</th>\n",
              "      <td>9</td>\n",
              "      <td>Nosotres</td>\n",
              "      <td>NaN</td>\n",
              "      <td>NaN</td>\n",
              "      <td>NaN</td>\n",
              "    </tr>\n",
              "    <tr>\n",
              "      <th>12</th>\n",
              "      <td>37</td>\n",
              "      <td>Nosotres</td>\n",
              "      <td>NaN</td>\n",
              "      <td>NaN</td>\n",
              "      <td>NaN</td>\n",
              "    </tr>\n",
              "    <tr>\n",
              "      <th>13</th>\n",
              "      <td>96</td>\n",
              "      <td>Nosotres</td>\n",
              "      <td>NaN</td>\n",
              "      <td>NaN</td>\n",
              "      <td>NaN</td>\n",
              "    </tr>\n",
              "    <tr>\n",
              "      <th>14</th>\n",
              "      <td>28</td>\n",
              "      <td>Nosotres</td>\n",
              "      <td>NaN</td>\n",
              "      <td>NaN</td>\n",
              "      <td>NaN</td>\n",
              "    </tr>\n",
              "    <tr>\n",
              "      <th>15</th>\n",
              "      <td>104</td>\n",
              "      <td>Sujetos</td>\n",
              "      <td>Numeritos</td>\n",
              "      <td>NaN</td>\n",
              "      <td>NaN</td>\n",
              "    </tr>\n",
              "  </tbody>\n",
              "</table>\n",
              "</div>\n",
              "    <div class=\"colab-df-buttons\">\n",
              "\n",
              "  <div class=\"colab-df-container\">\n",
              "    <button class=\"colab-df-convert\" onclick=\"convertToInteractive('df-e3f3b23e-8746-4ed3-a15d-d36caead30d7')\"\n",
              "            title=\"Convert this dataframe to an interactive table.\"\n",
              "            style=\"display:none;\">\n",
              "\n",
              "  <svg xmlns=\"http://www.w3.org/2000/svg\" height=\"24px\" viewBox=\"0 -960 960 960\">\n",
              "    <path d=\"M120-120v-720h720v720H120Zm60-500h600v-160H180v160Zm220 220h160v-160H400v160Zm0 220h160v-160H400v160ZM180-400h160v-160H180v160Zm440 0h160v-160H620v160ZM180-180h160v-160H180v160Zm440 0h160v-160H620v160Z\"/>\n",
              "  </svg>\n",
              "    </button>\n",
              "\n",
              "  <style>\n",
              "    .colab-df-container {\n",
              "      display:flex;\n",
              "      gap: 12px;\n",
              "    }\n",
              "\n",
              "    .colab-df-convert {\n",
              "      background-color: #E8F0FE;\n",
              "      border: none;\n",
              "      border-radius: 50%;\n",
              "      cursor: pointer;\n",
              "      display: none;\n",
              "      fill: #1967D2;\n",
              "      height: 32px;\n",
              "      padding: 0 0 0 0;\n",
              "      width: 32px;\n",
              "    }\n",
              "\n",
              "    .colab-df-convert:hover {\n",
              "      background-color: #E2EBFA;\n",
              "      box-shadow: 0px 1px 2px rgba(60, 64, 67, 0.3), 0px 1px 3px 1px rgba(60, 64, 67, 0.15);\n",
              "      fill: #174EA6;\n",
              "    }\n",
              "\n",
              "    .colab-df-buttons div {\n",
              "      margin-bottom: 4px;\n",
              "    }\n",
              "\n",
              "    [theme=dark] .colab-df-convert {\n",
              "      background-color: #3B4455;\n",
              "      fill: #D2E3FC;\n",
              "    }\n",
              "\n",
              "    [theme=dark] .colab-df-convert:hover {\n",
              "      background-color: #434B5C;\n",
              "      box-shadow: 0px 1px 3px 1px rgba(0, 0, 0, 0.15);\n",
              "      filter: drop-shadow(0px 1px 2px rgba(0, 0, 0, 0.3));\n",
              "      fill: #FFFFFF;\n",
              "    }\n",
              "  </style>\n",
              "\n",
              "    <script>\n",
              "      const buttonEl =\n",
              "        document.querySelector('#df-e3f3b23e-8746-4ed3-a15d-d36caead30d7 button.colab-df-convert');\n",
              "      buttonEl.style.display =\n",
              "        google.colab.kernel.accessAllowed ? 'block' : 'none';\n",
              "\n",
              "      async function convertToInteractive(key) {\n",
              "        const element = document.querySelector('#df-e3f3b23e-8746-4ed3-a15d-d36caead30d7');\n",
              "        const dataTable =\n",
              "          await google.colab.kernel.invokeFunction('convertToInteractive',\n",
              "                                                    [key], {});\n",
              "        if (!dataTable) return;\n",
              "\n",
              "        const docLinkHtml = 'Like what you see? Visit the ' +\n",
              "          '<a target=\"_blank\" href=https://colab.research.google.com/notebooks/data_table.ipynb>data table notebook</a>'\n",
              "          + ' to learn more about interactive tables.';\n",
              "        element.innerHTML = '';\n",
              "        dataTable['output_type'] = 'display_data';\n",
              "        await google.colab.output.renderOutput(dataTable, element);\n",
              "        const docLink = document.createElement('div');\n",
              "        docLink.innerHTML = docLinkHtml;\n",
              "        element.appendChild(docLink);\n",
              "      }\n",
              "    </script>\n",
              "  </div>\n",
              "\n",
              "\n",
              "<div id=\"df-c44f02df-86bf-4394-b447-f32bfdb866a6\">\n",
              "  <button class=\"colab-df-quickchart\" onclick=\"quickchart('df-c44f02df-86bf-4394-b447-f32bfdb866a6')\"\n",
              "            title=\"Suggest charts\"\n",
              "            style=\"display:none;\">\n",
              "\n",
              "<svg xmlns=\"http://www.w3.org/2000/svg\" height=\"24px\"viewBox=\"0 0 24 24\"\n",
              "     width=\"24px\">\n",
              "    <g>\n",
              "        <path d=\"M19 3H5c-1.1 0-2 .9-2 2v14c0 1.1.9 2 2 2h14c1.1 0 2-.9 2-2V5c0-1.1-.9-2-2-2zM9 17H7v-7h2v7zm4 0h-2V7h2v10zm4 0h-2v-4h2v4z\"/>\n",
              "    </g>\n",
              "</svg>\n",
              "  </button>\n",
              "\n",
              "<style>\n",
              "  .colab-df-quickchart {\n",
              "      --bg-color: #E8F0FE;\n",
              "      --fill-color: #1967D2;\n",
              "      --hover-bg-color: #E2EBFA;\n",
              "      --hover-fill-color: #174EA6;\n",
              "      --disabled-fill-color: #AAA;\n",
              "      --disabled-bg-color: #DDD;\n",
              "  }\n",
              "\n",
              "  [theme=dark] .colab-df-quickchart {\n",
              "      --bg-color: #3B4455;\n",
              "      --fill-color: #D2E3FC;\n",
              "      --hover-bg-color: #434B5C;\n",
              "      --hover-fill-color: #FFFFFF;\n",
              "      --disabled-bg-color: #3B4455;\n",
              "      --disabled-fill-color: #666;\n",
              "  }\n",
              "\n",
              "  .colab-df-quickchart {\n",
              "    background-color: var(--bg-color);\n",
              "    border: none;\n",
              "    border-radius: 50%;\n",
              "    cursor: pointer;\n",
              "    display: none;\n",
              "    fill: var(--fill-color);\n",
              "    height: 32px;\n",
              "    padding: 0;\n",
              "    width: 32px;\n",
              "  }\n",
              "\n",
              "  .colab-df-quickchart:hover {\n",
              "    background-color: var(--hover-bg-color);\n",
              "    box-shadow: 0 1px 2px rgba(60, 64, 67, 0.3), 0 1px 3px 1px rgba(60, 64, 67, 0.15);\n",
              "    fill: var(--button-hover-fill-color);\n",
              "  }\n",
              "\n",
              "  .colab-df-quickchart-complete:disabled,\n",
              "  .colab-df-quickchart-complete:disabled:hover {\n",
              "    background-color: var(--disabled-bg-color);\n",
              "    fill: var(--disabled-fill-color);\n",
              "    box-shadow: none;\n",
              "  }\n",
              "\n",
              "  .colab-df-spinner {\n",
              "    border: 2px solid var(--fill-color);\n",
              "    border-color: transparent;\n",
              "    border-bottom-color: var(--fill-color);\n",
              "    animation:\n",
              "      spin 1s steps(1) infinite;\n",
              "  }\n",
              "\n",
              "  @keyframes spin {\n",
              "    0% {\n",
              "      border-color: transparent;\n",
              "      border-bottom-color: var(--fill-color);\n",
              "      border-left-color: var(--fill-color);\n",
              "    }\n",
              "    20% {\n",
              "      border-color: transparent;\n",
              "      border-left-color: var(--fill-color);\n",
              "      border-top-color: var(--fill-color);\n",
              "    }\n",
              "    30% {\n",
              "      border-color: transparent;\n",
              "      border-left-color: var(--fill-color);\n",
              "      border-top-color: var(--fill-color);\n",
              "      border-right-color: var(--fill-color);\n",
              "    }\n",
              "    40% {\n",
              "      border-color: transparent;\n",
              "      border-right-color: var(--fill-color);\n",
              "      border-top-color: var(--fill-color);\n",
              "    }\n",
              "    60% {\n",
              "      border-color: transparent;\n",
              "      border-right-color: var(--fill-color);\n",
              "    }\n",
              "    80% {\n",
              "      border-color: transparent;\n",
              "      border-right-color: var(--fill-color);\n",
              "      border-bottom-color: var(--fill-color);\n",
              "    }\n",
              "    90% {\n",
              "      border-color: transparent;\n",
              "      border-bottom-color: var(--fill-color);\n",
              "    }\n",
              "  }\n",
              "</style>\n",
              "\n",
              "  <script>\n",
              "    async function quickchart(key) {\n",
              "      const quickchartButtonEl =\n",
              "        document.querySelector('#' + key + ' button');\n",
              "      quickchartButtonEl.disabled = true;  // To prevent multiple clicks.\n",
              "      quickchartButtonEl.classList.add('colab-df-spinner');\n",
              "      try {\n",
              "        const charts = await google.colab.kernel.invokeFunction(\n",
              "            'suggestCharts', [key], {});\n",
              "      } catch (error) {\n",
              "        console.error('Error during call to suggestCharts:', error);\n",
              "      }\n",
              "      quickchartButtonEl.classList.remove('colab-df-spinner');\n",
              "      quickchartButtonEl.classList.add('colab-df-quickchart-complete');\n",
              "    }\n",
              "    (() => {\n",
              "      let quickchartButtonEl =\n",
              "        document.querySelector('#df-c44f02df-86bf-4394-b447-f32bfdb866a6 button');\n",
              "      quickchartButtonEl.style.display =\n",
              "        google.colab.kernel.accessAllowed ? 'block' : 'none';\n",
              "    })();\n",
              "  </script>\n",
              "</div>\n",
              "\n",
              "  <div id=\"id_0c20fe3c-7450-47ac-97e7-748d6eb35f5a\">\n",
              "    <style>\n",
              "      .colab-df-generate {\n",
              "        background-color: #E8F0FE;\n",
              "        border: none;\n",
              "        border-radius: 50%;\n",
              "        cursor: pointer;\n",
              "        display: none;\n",
              "        fill: #1967D2;\n",
              "        height: 32px;\n",
              "        padding: 0 0 0 0;\n",
              "        width: 32px;\n",
              "      }\n",
              "\n",
              "      .colab-df-generate:hover {\n",
              "        background-color: #E2EBFA;\n",
              "        box-shadow: 0px 1px 2px rgba(60, 64, 67, 0.3), 0px 1px 3px 1px rgba(60, 64, 67, 0.15);\n",
              "        fill: #174EA6;\n",
              "      }\n",
              "\n",
              "      [theme=dark] .colab-df-generate {\n",
              "        background-color: #3B4455;\n",
              "        fill: #D2E3FC;\n",
              "      }\n",
              "\n",
              "      [theme=dark] .colab-df-generate:hover {\n",
              "        background-color: #434B5C;\n",
              "        box-shadow: 0px 1px 3px 1px rgba(0, 0, 0, 0.15);\n",
              "        filter: drop-shadow(0px 1px 2px rgba(0, 0, 0, 0.3));\n",
              "        fill: #FFFFFF;\n",
              "      }\n",
              "    </style>\n",
              "    <button class=\"colab-df-generate\" onclick=\"generateWithVariable('df_metadata')\"\n",
              "            title=\"Generate code using this dataframe.\"\n",
              "            style=\"display:none;\">\n",
              "\n",
              "  <svg xmlns=\"http://www.w3.org/2000/svg\" height=\"24px\"viewBox=\"0 0 24 24\"\n",
              "       width=\"24px\">\n",
              "    <path d=\"M7,19H8.4L18.45,9,17,7.55,7,17.6ZM5,21V16.75L18.45,3.32a2,2,0,0,1,2.83,0l1.4,1.43a1.91,1.91,0,0,1,.58,1.4,1.91,1.91,0,0,1-.58,1.4L9.25,21ZM18.45,9,17,7.55Zm-12,3A5.31,5.31,0,0,0,4.9,8.1,5.31,5.31,0,0,0,1,6.5,5.31,5.31,0,0,0,4.9,4.9,5.31,5.31,0,0,0,6.5,1,5.31,5.31,0,0,0,8.1,4.9,5.31,5.31,0,0,0,12,6.5,5.46,5.46,0,0,0,6.5,12Z\"/>\n",
              "  </svg>\n",
              "    </button>\n",
              "    <script>\n",
              "      (() => {\n",
              "      const buttonEl =\n",
              "        document.querySelector('#id_0c20fe3c-7450-47ac-97e7-748d6eb35f5a button.colab-df-generate');\n",
              "      buttonEl.style.display =\n",
              "        google.colab.kernel.accessAllowed ? 'block' : 'none';\n",
              "\n",
              "      buttonEl.onclick = () => {\n",
              "        google.colab.notebook.generateWithVariable('df_metadata');\n",
              "      }\n",
              "      })();\n",
              "    </script>\n",
              "  </div>\n",
              "\n",
              "    </div>\n",
              "  </div>\n"
            ],
            "application/vnd.google.colaboratory.intrinsic+json": {
              "type": "dataframe",
              "variable_name": "df_metadata",
              "summary": "{\n  \"name\": \"df_metadata\",\n  \"rows\": 16,\n  \"fields\": [\n    {\n      \"column\": \"Numero\",\n      \"properties\": {\n        \"dtype\": \"number\",\n        \"std\": 33,\n        \"min\": 7,\n        \"max\": 104,\n        \"num_unique_values\": 15,\n        \"samples\": [\n          102,\n          37,\n          14\n        ],\n        \"semantic_type\": \"\",\n        \"description\": \"\"\n      }\n    },\n    {\n      \"column\": \"Categoria\",\n      \"properties\": {\n        \"dtype\": \"category\",\n        \"num_unique_values\": 2,\n        \"samples\": [\n          \"Nosotres\",\n          \"Sujetos\"\n        ],\n        \"semantic_type\": \"\",\n        \"description\": \"\"\n      }\n    },\n    {\n      \"column\": \"Primer Estimulo\",\n      \"properties\": {\n        \"dtype\": \"category\",\n        \"num_unique_values\": 2,\n        \"samples\": [\n          \"Numeritos\",\n          \"Im\\u00c3\\u00a1genes\"\n        ],\n        \"semantic_type\": \"\",\n        \"description\": \"\"\n      }\n    },\n    {\n      \"column\": \"Unnamed: 3\",\n      \"properties\": {\n        \"dtype\": \"number\",\n        \"std\": null,\n        \"min\": null,\n        \"max\": null,\n        \"num_unique_values\": 0,\n        \"samples\": [],\n        \"semantic_type\": \"\",\n        \"description\": \"\"\n      }\n    },\n    {\n      \"column\": \"Unnamed: 4\",\n      \"properties\": {\n        \"dtype\": \"number\",\n        \"std\": null,\n        \"min\": null,\n        \"max\": null,\n        \"num_unique_values\": 0,\n        \"samples\": [],\n        \"semantic_type\": \"\",\n        \"description\": \"\"\n      }\n    }\n  ]\n}"
            }
          },
          "metadata": {},
          "execution_count": 6
        }
      ]
    },
    {
      "cell_type": "markdown",
      "source": [
        "## Tiempos Medios de respuesta\n",
        "\n",
        "Calculamos los tiempos medios de respuestas correctas para cada experimento. Los agregamos como categorias `df_data['Tiempo Medio Correctas Numeros']` y `df_data['Tiempo Medio Correctas Imagenes']`, respectivamente.\n",
        "\n"
      ],
      "metadata": {
        "id": "w01hMlnFgGRB"
      }
    },
    {
      "cell_type": "code",
      "source": [
        "for archivo in archivos:\n",
        "  if \"Metadata\" not in archivo:\n",
        "    df = pd.read_csv(archivo)\n",
        "    filtered_df = df[df['estim'] <= 5]\n",
        "    if \"numeritos\" in archivo:\n",
        "      df_data.loc[df_data['Sujeto'] == df['subid'][0], 'Tiempo Medio Correctas Numeros'] = filtered_df['response_time'].mean()\n",
        "    else:\n",
        "      df_data.loc[df_data['Sujeto'] == df['subid'][0], 'Tiempo Medio Correctas Imagenes'] = filtered_df['response_time'].mean()"
      ],
      "metadata": {
        "id": "4MQh5oGLVs3N"
      },
      "execution_count": 7,
      "outputs": []
    },
    {
      "cell_type": "markdown",
      "source": [
        "Este analisis es para tener una idea de si en lineas generales hubo diferencia entre los dos experimentos. Como vemos en el grafico y el t-test, la respuesta es no. Sin embargo, sí hay diferencia al tener en cuenta a nuestro grupo en el experimento de imagenes."
      ],
      "metadata": {
        "id": "kjwsdyJogsxR"
      }
    },
    {
      "cell_type": "code",
      "source": [
        "# Example data\n",
        "data1 = list(df_data.loc[df_data['Categoria'] != 'Nosotres']['Tiempo Medio Correctas Numeros'])\n",
        "data2 = list(df_data.loc[df_data['Categoria'] != 'Nosotres']['Tiempo Medio Correctas Imagenes'])\n",
        "data3 = list(df_data.loc[df_data['Categoria'] == 'Nosotres']['Tiempo Medio Correctas Numeros'])\n",
        "data4 = list(df_data.loc[df_data['Categoria'] == 'Nosotres']['Tiempo Medio Correctas Imagenes'])\n",
        "#data1 = list(df_data['Tiempo Medio Correctas Numeros'])\n",
        "#data2 = list(df_data['Tiempo Medio Correctas Imagenes'])\n",
        "tiempos_medios = {\n",
        "    'Values': data1 + data2 + data3 + data4,\n",
        "    'Category': ['Numeros'] * len(data1) + ['Imagenes'] * len(data2) + ['Numeros (nosotres)'] * len(data3) + ['Imagenes (nosotres)'] * len(data4)\n",
        "}\n",
        "\n",
        "# Create a DataFrame\n",
        "df = pd.DataFrame(tiempos_medios)\n",
        "\n",
        "palette = {'Numeros': 'blue', 'Imagenes': 'blue',\n",
        "           'Numeros (nosotres)': 'orange', 'Imagenes (nosotres)': 'orange'}\n",
        "\n",
        "# Create the boxplot\n",
        "sns.boxplot(x='Category', y='Values', data=df, palette=palette)\n",
        "# Overlay individual points\n",
        "sns.stripplot(x='Category', y='Values', data=df, color='black', jitter=False, alpha=0.8)\n",
        "\n",
        "\n",
        "# Add titles and labels\n",
        "plt.title('Tiempos Medios de Respuesta')\n",
        "plt.xlabel('Distractor')\n",
        "plt.ylabel('Tiempos (seg)')\n",
        "\n",
        "# Display the plot\n",
        "plt.tight_layout()\n",
        "plt.show()\n",
        "\n",
        "# Perform one-way ANOVA\n",
        "f_stat, p_value = stats.f_oneway(data1,data2,data3,data4)\n",
        "\n",
        "print(f\"F-statistic: {f_stat}\")\n",
        "print(f\"P-value: {p_value}\")"
      ],
      "metadata": {
        "colab": {
          "base_uri": "https://localhost:8080/",
          "height": 628
        },
        "id": "uzoSKoCgSn4V",
        "outputId": "9f70de74-cba3-4269-e357-5089b01bfc95"
      },
      "execution_count": 8,
      "outputs": [
        {
          "output_type": "stream",
          "name": "stderr",
          "text": [
            "<ipython-input-8-1d0583832bf0>:20: FutureWarning: \n",
            "\n",
            "Passing `palette` without assigning `hue` is deprecated and will be removed in v0.14.0. Assign the `x` variable to `hue` and set `legend=False` for the same effect.\n",
            "\n",
            "  sns.boxplot(x='Category', y='Values', data=df, palette=palette)\n"
          ]
        },
        {
          "output_type": "display_data",
          "data": {
            "text/plain": [
              "<Figure size 640x480 with 1 Axes>"
            ],
            "image/png": "[encoded data removed]"
          },
          "metadata": {}
        },
        {
          "output_type": "stream",
          "name": "stdout",
          "text": [
            "F-statistic: 1.1474741840148779\n",
            "P-value: 0.3471880956003763\n"
          ]
        }
      ]
    },
    {
      "cell_type": "markdown",
      "source": [
        "## Cantidad de errores\n",
        "\n",
        "Contamos la cantidad de errores cometidos (falsos positivos y falsos negativos)"
      ],
      "metadata": {
        "id": "ilq8Y1wyvDkX"
      }
    },
    {
      "cell_type": "code",
      "source": [
        "df_data['Falsos Positivos Numeros'] = None\n",
        "df_data['Falsos Negativos Numeros'] = None\n",
        "df_data['Total Errores Numeros'] = None\n",
        "df_data['Falsos Positivos Imagenes'] = None\n",
        "df_data['Falsos Negativos Imagenes'] = None\n",
        "df_data['Total Errores Imagenes'] = None\n",
        "\n",
        "\n",
        "for archivo in archivos:\n",
        "  if \"Metadata\" not in archivo:\n",
        "    df = pd.read_csv(archivo)\n",
        "    filteredFN_df = df[df['estim'] <= 5]\n",
        "    filteredFP_df = df[df['estim'] > 5]\n",
        "    if \"numeritos\" in archivo:\n",
        "      df_data.loc[df_data['Sujeto'] == df['subid'][0], 'Falsos Negativos Numeros'] = sum(np.isnan(filteredFN_df['response_time']))\n",
        "      df_data.loc[df_data['Sujeto'] == df['subid'][0], 'Falsos Positivos Numeros'] = len(np.isnan(filteredFP_df['response_time'])) - sum(np.isnan(filteredFP_df['response_time']))\n",
        "      df_data.loc[df_data['Sujeto'] == df['subid'][0], 'Total Errores Numeros'] = df_data.loc[df_data['Sujeto'] == df['subid'][0], 'Falsos Positivos Numeros'] + df_data.loc[df_data['Sujeto'] == df['subid'][0], 'Falsos Negativos Numeros']\n",
        "    else:\n",
        "      df_data.loc[df_data['Sujeto'] == df['subid'][0], 'Falsos Negativos Imagenes'] =  sum(np.isnan(filteredFN_df['response_time']))\n",
        "      df_data.loc[df_data['Sujeto'] == df['subid'][0], 'Falsos Positivos Imagenes'] = len(np.isnan(filteredFP_df['response_time'])) - sum(np.isnan(filteredFP_df['response_time']))\n",
        "      df_data.loc[df_data['Sujeto'] == df['subid'][0], 'Total Errores Imagenes'] = df_data.loc[df_data['Sujeto'] == df['subid'][0], 'Falsos Positivos Imagenes'] + df_data.loc[df_data['Sujeto'] == df['subid'][0], 'Falsos Negativos Imagenes']\n",
        "\n"
      ],
      "metadata": {
        "id": "UCfq7buxecsz"
      },
      "execution_count": 9,
      "outputs": []
    },
    {
      "cell_type": "code",
      "source": [
        "# Example data\n",
        "data1 = list(df_data.loc[df_data['Categoria'] != 'Nosotres']['Total Errores Numeros'])\n",
        "data2 = list(df_data.loc[df_data['Categoria'] != 'Nosotres']['Total Errores Imagenes'])\n",
        "data3 = list(df_data.loc[df_data['Categoria'] == 'Nosotres']['Total Errores Numeros'])\n",
        "data4 = list(df_data.loc[df_data['Categoria'] == 'Nosotres']['Total Errores Imagenes'])\n",
        "total_errores = {\n",
        "    'Values': data1 + data2 + data3 + data4,\n",
        "    'Category': ['Numeros'] * len(data1) + ['Imagenes'] * len(data2) + ['Numeros (nosotres)'] * len(data3) + ['Imagenes (nosotres)'] * len(data4)\n",
        "}\n",
        "\n",
        "# Create a DataFrame\n",
        "df = pd.DataFrame(total_errores)\n",
        "\n",
        "palette = {'Numeros': 'blue', 'Imagenes': 'blue',\n",
        "           'Numeros (nosotres)': 'orange', 'Imagenes (nosotres)': 'orange'}\n",
        "\n",
        "# Create the boxplot\n",
        "sns.boxplot(x='Category', y='Values', data=df, palette=palette)\n",
        "# Overlay individual points\n",
        "sns.stripplot(x='Category', y='Values', data=df, color='black', jitter=True, alpha=0.8)\n",
        "\n",
        "\n",
        "# Add titles and labels\n",
        "plt.title('Total Errores')\n",
        "plt.xlabel('Distractor')\n",
        "plt.ylabel('Número de errores')\n",
        "\n",
        "# Display the plot\n",
        "plt.tight_layout()\n",
        "plt.show()\n",
        "\n",
        "t_stat, p_value = stats.ttest_ind(data1, data2)\n",
        "print(f\"P-value: {p_value}\")"
      ],
      "metadata": {
        "colab": {
          "base_uri": "https://localhost:8080/",
          "height": 611
        },
        "id": "FmywoSu7eiBh",
        "outputId": "747f9f7f-6979-48b9-e899-16fd6601bb9c"
      },
      "execution_count": 10,
      "outputs": [
        {
          "output_type": "stream",
          "name": "stderr",
          "text": [
            "<ipython-input-10-97032349bf9e>:18: FutureWarning: \n",
            "\n",
            "Passing `palette` without assigning `hue` is deprecated and will be removed in v0.14.0. Assign the `x` variable to `hue` and set `legend=False` for the same effect.\n",
            "\n",
            "  sns.boxplot(x='Category', y='Values', data=df, palette=palette)\n"
          ]
        },
        {
          "output_type": "display_data",
          "data": {
            "text/plain": [
              "<Figure size 640x480 with 1 Axes>"
            ],
            "image/png": "[encoded data removed]"
          },
          "metadata": {}
        },
        {
          "output_type": "stream",
          "name": "stdout",
          "text": [
            "P-value: 0.07288906571546086\n"
          ]
        }
      ]
    },
    {
      "cell_type": "markdown",
      "source": [
        "# Diferencias Entre 1er Trial y 2do Trial"
      ],
      "metadata": {
        "id": "nAzD9iD5BN-Z"
      }
    },
    {
      "cell_type": "markdown",
      "source": [
        "### Tiempos medios"
      ],
      "metadata": {
        "id": "kn9Ii8oNoRL1"
      }
    },
    {
      "cell_type": "code",
      "source": [
        "df_data['Tiempo Medio Primera'] = None\n",
        "df_data['Tiempo Medio Segunda'] = None\n",
        "\n",
        "for archivo in archivos:\n",
        "  if \"Metadata\" not in archivo:\n",
        "    df = pd.read_csv(archivo)\n",
        "    filtered_df = df[df['estim'] <= 5]\n",
        "    if (\"numeritos\" in archivo) and np.array(df_data.loc[df_data['Sujeto'] == df['subid'][0],'Primer Estimulo'] == \"numeritos\")[0]:\n",
        "      df_data.loc[df_data['Sujeto'] == df['subid'][0], 'Tiempo Medio Primera'] = filtered_df['response_time'].mean()\n",
        "    elif (\"imagenes\" in archivo) and np.array(df_data.loc[df_data['Sujeto'] == df['subid'][0],'Primer Estimulo'] == \"imagenes\")[0]:\n",
        "      df_data.loc[df_data['Sujeto'] == df['subid'][0], 'Tiempo Medio Primera'] = filtered_df['response_time'].mean()\n",
        "    else:\n",
        "      df_data.loc[df_data['Sujeto'] == df['subid'][0], 'Tiempo Medio Segunda'] = filtered_df['response_time'].mean()"
      ],
      "metadata": {
        "id": "SlYhftiWDjkf"
      },
      "execution_count": 11,
      "outputs": []
    },
    {
      "cell_type": "code",
      "source": [
        "# Example data\n",
        "data1 = list(df_data.loc[df_data['Categoria'] != 'Nosotres']['Tiempo Medio Primera'])\n",
        "data2 = list(df_data.loc[df_data['Categoria'] != 'Nosotres']['Tiempo Medio Segunda'])\n",
        "#data1 = list(df_data['Tiempo Medio Correctas Numeros'])\n",
        "#data2 = list(df_data['Tiempo Medio Correctas Imagenes'])\n",
        "tiempos_medios = {\n",
        "    'Values': data1 + data2,\n",
        "    'Category': ['Primera'] * len(data1) + ['Segunda'] * len(data2)\n",
        "}\n",
        "\n",
        "# Create a DataFrame\n",
        "df = pd.DataFrame(tiempos_medios)\n",
        "\n",
        "palette = {'Primera': 'blue', 'Segunda': 'blue'}\n",
        "\n",
        "# Create the boxplot\n",
        "sns.boxplot(x='Category', y='Values', data=df, palette=palette)\n",
        "# Overlay individual points\n",
        "sns.stripplot(x='Category', y='Values', data=df, color='black', jitter=False, alpha=0.8)\n",
        "\n",
        "\n",
        "# Add titles and labels\n",
        "plt.title('Tiempos Medios de Respuesta')\n",
        "plt.xlabel('#Vuelta')\n",
        "plt.ylabel('Tiempos (seg)')\n",
        "\n",
        "# Display the plot\n",
        "plt.tight_layout()\n",
        "plt.show()\n",
        "\n",
        "# Perform one-way ANOVA\n",
        "f_stat, p_value = stats.f_oneway(data1,data2,data3,data4)\n",
        "\n",
        "print(f\"F-statistic: {f_stat}\")\n",
        "print(f\"P-value: {p_value}\")"
      ],
      "metadata": {
        "colab": {
          "base_uri": "https://localhost:8080/",
          "height": 628
        },
        "id": "IoLnrjIqCSYA",
        "outputId": "1c9f7605-8660-4941-cbfc-2ddb7bbf7b8c"
      },
      "execution_count": 12,
      "outputs": [
        {
          "output_type": "stream",
          "name": "stderr",
          "text": [
            "<ipython-input-12-aa540b775196>:17: FutureWarning: \n",
            "\n",
            "Passing `palette` without assigning `hue` is deprecated and will be removed in v0.14.0. Assign the `x` variable to `hue` and set `legend=False` for the same effect.\n",
            "\n",
            "  sns.boxplot(x='Category', y='Values', data=df, palette=palette)\n"
          ]
        },
        {
          "output_type": "display_data",
          "data": {
            "text/plain": [
              "<Figure size 640x480 with 1 Axes>"
            ],
            "image/png": "[encoded data removed]"
          },
          "metadata": {}
        },
        {
          "output_type": "stream",
          "name": "stdout",
          "text": [
            "F-statistic: 0.3560096209185063\n",
            "P-value: 0.7851549639142257\n"
          ]
        }
      ]
    },
    {
      "cell_type": "markdown",
      "source": [
        "### Número de errores"
      ],
      "metadata": {
        "id": "2csmpRMeoTjk"
      }
    },
    {
      "cell_type": "code",
      "source": [
        "df_data['Falsos Positivos Primera'] = None\n",
        "df_data['Falsos Negativos Primera'] = None\n",
        "df_data['Total Errores Primera'] = None\n",
        "df_data['Falsos Positivos Segunda'] = None\n",
        "df_data['Falsos Negativos Segunda'] = None\n",
        "df_data['Total Errores Segunda'] = None\n",
        "\n",
        "\n",
        "for archivo in archivos:\n",
        "  if \"Metadata\" not in archivo:\n",
        "    df = pd.read_csv(archivo)\n",
        "    filteredFN_df = df[df['estim'] <= 5]\n",
        "    filteredFP_df = df[df['estim'] > 5]\n",
        "    condicion_primera = ((\"numeritos\" in archivo) and np.array(df_data.loc[df_data['Sujeto'] == df['subid'][0],'Primer Estimulo'] == \"numeritos\")[0]) or ((\"imagenes\" in archivo) and np.array(df_data.loc[df_data['Sujeto'] == df['subid'][0],'Primer Estimulo'] == \"imagenes\")[0])\n",
        "    if condicion_primera:\n",
        "      df_data.loc[df_data['Sujeto'] == df['subid'][0], 'Falsos Negativos Primera'] = sum(np.isnan(filteredFN_df['response_time']))\n",
        "      df_data.loc[df_data['Sujeto'] == df['subid'][0], 'Falsos Positivos Primera'] = len(np.isnan(filteredFP_df['response_time'])) - sum(np.isnan(filteredFP_df['response_time']))\n",
        "      df_data.loc[df_data['Sujeto'] == df['subid'][0], 'Total Errores Primera'] = df_data.loc[df_data['Sujeto'] == df['subid'][0], 'Falsos Positivos Primera'] + df_data.loc[df_data['Sujeto'] == df['subid'][0], 'Falsos Negativos Primera']\n",
        "    else:\n",
        "      df_data.loc[df_data['Sujeto'] == df['subid'][0], 'Falsos Negativos Segunda'] =  sum(np.isnan(filteredFN_df['response_time']))\n",
        "      df_data.loc[df_data['Sujeto'] == df['subid'][0], 'Falsos Positivos Segunda'] = len(np.isnan(filteredFP_df['response_time'])) - sum(np.isnan(filteredFP_df['response_time']))\n",
        "      df_data.loc[df_data['Sujeto'] == df['subid'][0], 'Total Errores Segunda'] = df_data.loc[df_data['Sujeto'] == df['subid'][0], 'Falsos Positivos Segunda'] + df_data.loc[df_data['Sujeto'] == df['subid'][0], 'Falsos Negativos Segunda']\n",
        "\n"
      ],
      "metadata": {
        "id": "yW9V3hnxoWr-"
      },
      "execution_count": 13,
      "outputs": []
    },
    {
      "cell_type": "code",
      "source": [
        "# Example data\n",
        "data1 = list(df_data.loc[df_data['Categoria'] != 'Nosotres']['Total Errores Primera'])\n",
        "data2 = list(df_data.loc[df_data['Categoria'] != 'Nosotres']['Total Errores Segunda'])\n",
        "#data1 = list(df_data['Tiempo Medio Correctas Numeros'])\n",
        "#data2 = list(df_data['Tiempo Medio Correctas Imagenes'])\n",
        "tiempos_medios = {\n",
        "    'Values': data1 + data2,\n",
        "    'Category': ['Primera'] * len(data1) + ['Segunda'] * len(data2)\n",
        "}\n",
        "\n",
        "# Create a DataFrame\n",
        "df = pd.DataFrame(tiempos_medios)\n",
        "\n",
        "palette = {'Primera': 'blue', 'Segunda': 'blue'}\n",
        "\n",
        "# Create the boxplot\n",
        "sns.boxplot(x='Category', y='Values', data=df, palette=palette)\n",
        "# Overlay individual points\n",
        "sns.stripplot(x='Category', y='Values', data=df, color='black', jitter=True, alpha=0.8)\n",
        "\n",
        "\n",
        "# Add titles and labels\n",
        "plt.title('Tiempos Medios de Respuesta')\n",
        "plt.xlabel('#Vuelta')\n",
        "plt.ylabel('Tiempos (seg)')\n",
        "\n",
        "# Display the plot\n",
        "plt.tight_layout()\n",
        "plt.show()\n",
        "\n",
        "# Perform one-way ANOVA\n",
        "f_stat, p_value = stats.ttest_ind(data1,data2)\n",
        "\n",
        "print(f\"F-statistic: {f_stat}\")\n",
        "print(f\"P-value: {p_value}\")"
      ],
      "metadata": {
        "colab": {
          "base_uri": "https://localhost:8080/",
          "height": 628
        },
        "id": "uXiGjg9dpSSV",
        "outputId": "a8af3882-9f48-42c9-bad6-e93d43f8cc81"
      },
      "execution_count": 20,
      "outputs": [
        {
          "output_type": "stream",
          "name": "stderr",
          "text": [
            "<ipython-input-20-af3e69533203>:17: FutureWarning: \n",
            "\n",
            "Passing `palette` without assigning `hue` is deprecated and will be removed in v0.14.0. Assign the `x` variable to `hue` and set `legend=False` for the same effect.\n",
            "\n",
            "  sns.boxplot(x='Category', y='Values', data=df, palette=palette)\n"
          ]
        },
        {
          "output_type": "display_data",
          "data": {
            "text/plain": [
              "<Figure size 640x480 with 1 Axes>"
            ],
            "image/png": "[encoded data removed]"
          },
          "metadata": {}
        },
        {
          "output_type": "stream",
          "name": "stdout",
          "text": [
            "F-statistic: 1.88371629943954\n",
            "P-value: 0.07288906571546086\n"
          ]
        }
      ]
    }
  ],
  "metadata": {
    "kernelspec": {
      "display_name": "Python 3",
      "language": "python",
      "name": "python3"
    },
    "language_info": {
      "codemirror_mode": {
        "name": "ipython",
        "version": 3
      },
      "file_extension": ".py",
      "mimetype": "text/x-python",
      "name": "python",
      "nbconvert_exporter": "python",
      "pygments_lexer": "ipython3",
      "version": "3.9.13"
    },
    "colab": {
      "provenance": []
    }
  },
  "nbformat": 4,
  "nbformat_minor": 0
}